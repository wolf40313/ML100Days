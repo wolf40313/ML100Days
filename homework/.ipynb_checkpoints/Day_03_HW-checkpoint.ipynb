{
 "cells": [
  {
   "cell_type": "code",
   "execution_count": 1,
   "metadata": {},
   "outputs": [],
   "source": [
    "import numpy as np"
   ]
  },
  {
   "cell_type": "code",
   "execution_count": 6,
   "metadata": {},
   "outputs": [
    {
     "name": "stdout",
     "output_type": "stream",
     "text": [
      "Normal_talk: 60.0 GdB\n"
     ]
    }
   ],
   "source": [
    "#GdB=20*log10(V1/V0)；Gdb為分貝；V1為聲壓測量值；V0為聲壓標準值\n",
    "#1.正常的談話的聲壓為20000微巴斯卡，請問多少分貝？ (請寫下程式)\n",
    "V1 = 20000\n",
    "V0 = 20\n",
    "Vnm = 20*np.log10(V1/V0)\n",
    "print(\"Normal_talk:\", Vnm ,\"GdB\")"
   ]
  },
  {
   "cell_type": "code",
   "execution_count": 15,
   "metadata": {},
   "outputs": [
    {
     "name": "stdout",
     "output_type": "stream",
     "text": [
      "30分貝的聲壓為50分貝的 0.1 倍\n"
     ]
    }
   ],
   "source": [
    "#2.30分貝的聲壓會是50分貝的幾倍？ (請寫下程式)\n",
    "#公式移項過後可以得到 V1 = V0*10^(Gdb/20)\n",
    "V30 = V0*np.power(10,(30/20)) #V30為30分貝的聲壓\n",
    "V50 = V0*np.power(10,(50/20)) #V50為50分貝的聲壓\n",
    "#30分貝的聲壓為50分貝的 x 倍\n",
    "V = V30/V50\n",
    "x = np.round(V,decimals=2)\n",
    "print(\"30分貝的聲壓為50分貝的\", x ,\"倍\")"
   ]
  }
 ],
 "metadata": {
  "kernelspec": {
   "display_name": "Python 3",
   "language": "python",
   "name": "python3"
  },
  "language_info": {
   "codemirror_mode": {
    "name": "ipython",
    "version": 3
   },
   "file_extension": ".py",
   "mimetype": "text/x-python",
   "name": "python",
   "nbconvert_exporter": "python",
   "pygments_lexer": "ipython3",
   "version": "3.8.5"
  }
 },
 "nbformat": 4,
 "nbformat_minor": 4
}
